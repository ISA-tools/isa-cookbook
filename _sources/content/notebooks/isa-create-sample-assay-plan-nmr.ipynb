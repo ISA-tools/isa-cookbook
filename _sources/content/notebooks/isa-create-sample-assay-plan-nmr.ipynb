{
 "cells": [
  {
   "cell_type": "markdown",
   "metadata": {},
   "source": [
    "## ISA Create - Sample Assay Plan as a Graph: NMR Spectrometry\n",
    "Here I am showing how from a JSON-like dictionary describing an NMR experiment you can create a full SampleAssayPlan as a graph and visualize how this looks like\n"
   ]
  },
  {
   "cell_type": "code",
   "execution_count": 2,
   "metadata": {},
   "outputs": [
    {
     "name": "stderr",
     "output_type": "stream",
     "text": [
      "/Users/philippe/.pyenv/versions/3.6.5/envs/venv365/src/isatools/isatools/create/models.py:90: YAMLLoadWarning: calling yaml.load() without Loader=... is deprecated, as the default Loader is unsafe. Please read https://msg.pyyaml.org/load for full details.\n",
      "  yaml_config = yaml.load(yaml_file)\n"
     ]
    }
   ],
   "source": [
    "from isatools.model import *\n",
    "from isatools.create.models import *\n",
    "import json\n",
    "from isatools.isajson import ISAJSONEncoder\n",
    "import networkx as nx\n",
    "import plotly.plotly as py\n",
    "import plotly.graph_objs as go\n",
    "import matplotlib.pyplot as plt\n",
    "import pydot\n",
    "from graphviz import Digraph\n",
    "import pygraphviz\n",
    "import math"
   ]
  },
  {
   "cell_type": "code",
   "execution_count": 3,
   "metadata": {},
   "outputs": [],
   "source": [
    "%matplotlib inline"
   ]
  },
  {
   "cell_type": "code",
   "execution_count": 4,
   "metadata": {},
   "outputs": [],
   "source": [
    "# from: https://stackoverflow.com/questions/29586520/can-one-get-hierarchical-graphs-from-networkx-with-python-3/29597209\n",
    "def hierarchy_pos(G, root=None, width=1., vert_gap = 0.2, vert_loc = 0, xcenter = 0.5):\n",
    "\n",
    "    '''\n",
    "    From Joel's answer at https://stackoverflow.com/a/29597209/2966723.  \n",
    "    Licensed under Creative Commons Attribution-Share Alike \n",
    "\n",
    "    If the graph is a tree this will return the positions to plot this in a \n",
    "    hierarchical layout.\n",
    "\n",
    "    G: the graph (must be a tree)\n",
    "\n",
    "    root: the root node of current branch \n",
    "    - if the tree is directed and this is not given, \n",
    "      the root will be found and used\n",
    "    - if the tree is directed and this is given, then \n",
    "      the positions will be just for the descendants of this node.\n",
    "    - if the tree is undirected and not given, \n",
    "      then a random choice will be used.\n",
    "\n",
    "    width: horizontal space allocated for this branch - avoids overlap with other branches\n",
    "\n",
    "    vert_gap: gap between levels of hierarchy\n",
    "\n",
    "    vert_loc: vertical location of root\n",
    "\n",
    "    xcenter: horizontal location of root\n",
    "    '''\n",
    "# NOTE: This was commented out for testing with ISA-API output (a DiGraph)   \n",
    "#     if not nx.is_tree(G):\n",
    "#         raise TypeError('cannot use hierarchy_pos on a graph that is not a tree')\n",
    "\n",
    "    if root is None:\n",
    "        if isinstance(G, nx.DiGraph):\n",
    "            root = next(iter(nx.topological_sort(G)))  #allows back compatibility with nx version 1.11\n",
    "        else:\n",
    "            root = random.choice(list(G.nodes))\n",
    "\n",
    "    def _hierarchy_pos(G, root, width=1., vert_gap = 0.2, vert_loc = 0, xcenter = 0.5, pos = None, parent = None):\n",
    "        '''\n",
    "        see hierarchy_pos docstring for most arguments\n",
    "\n",
    "        pos: a dict saying where all nodes go if they have been assigned\n",
    "        parent: parent of this branch. - only affects it if non-directed\n",
    "\n",
    "        '''\n",
    "\n",
    "        if pos is None:\n",
    "            pos = {root:(xcenter,vert_loc)}\n",
    "        else:\n",
    "            pos[root] = (xcenter, vert_loc)\n",
    "        children = list(G.neighbors(root))\n",
    "        if not isinstance(G, nx.DiGraph) and parent is not None:\n",
    "            children.remove(parent)  \n",
    "        if len(children)!=0:\n",
    "            dx = width/len(children) \n",
    "            nextx = xcenter - width/2 - dx/2\n",
    "            for child in children:\n",
    "                nextx += dx\n",
    "                pos = _hierarchy_pos(G,child, width = dx, vert_gap = vert_gap, \n",
    "                                    vert_loc = vert_loc-vert_gap, xcenter=nextx,\n",
    "                                    pos=pos, parent = root)\n",
    "        return pos\n",
    "\n",
    "\n",
    "    return _hierarchy_pos(G, root, width, vert_gap, vert_loc, xcenter)\n"
   ]
  },
  {
   "cell_type": "markdown",
   "metadata": {},
   "source": [
    "creating a study object"
   ]
  },
  {
   "cell_type": "code",
   "execution_count": 9,
   "metadata": {},
   "outputs": [
    {
     "data": {
      "text/plain": [
       "isatools.model.Investigation(identifier='', filename='', title='', submission_date='', public_release_date='', ontology_source_references=[], publications=[], contacts=[], studies=[isatools.model.Study(filename='s_study_xover.txt', identifier='TEST1', title='TEST1 too', description='some testing is happening', submission_date='2019-06-02', public_release_date='2020-06-02', contacts=[], design_descriptors=[], publications=[], factors=[], protocols=[isatools.model.Protocol(name='sample collection', protocol_type=isatools.model.OntologyAnnotation(term='', term_source=None, term_accession='', comments=[]), uri='', version='', parameters=[], components=[], comments=[])], assays=[], sources=[isatools.model.Source(name='source1', characteristics=[], comments=[])], samples=[isatools.model.Sample(name='sample1', characteristics=[], factor_values=[], derives_from=[], comments=[])], process_sequence=[<isatools.model.Process object at 0x12dce6048>], other_material=[], characteristic_categories=[], comments=[], units=[])], comments=[])"
      ]
     },
     "execution_count": 9,
     "metadata": {},
     "output_type": "execute_result"
    }
   ],
   "source": [
    "investigation = Investigation()\n",
    "study = Study(filename=\"s_study_xover.txt\")\n",
    "study.identifier = \"TEST1\"\n",
    "study.title = \"TEST1 too\"\n",
    "study.description = \"some testing is happening\"\n",
    "study.submission_date = \"2019-06-02\"\n",
    "study.public_release_date = \"2020-06-02\"\n",
    "study.sources = [Source(name=\"source1\")]\n",
    "study.samples = [Sample(name=\"sample1\")]\n",
    "study.protocols = [Protocol(name=\"sample collection\")]\n",
    "study.process_sequence = [Process(executes_protocol=study.protocols[-1], inputs=[study.sources[-1]], outputs=[study.samples[-1]])]\n",
    "investigation.studies = [study]\n",
    "investigation"
   ]
  },
  {
   "cell_type": "markdown",
   "metadata": {},
   "source": [
    "Here we define the structure of our sampling and assay plan, using a Python dictionary. From it we create a full `isatools.create.models.SampleAssayPlan` object"
   ]
  },
  {
   "cell_type": "code",
   "execution_count": 10,
   "metadata": {},
   "outputs": [
    {
     "name": "stdout",
     "output_type": "stream",
     "text": [
      "pv_combination: ()\n",
      "count: 0, prev_node: extraction_000\n",
      "count: 0, prev_node: extraction_000\n",
      "pv_combination: ('Bruker AvanceII 1 GHz', '1D 13C NMR', 'CPMG')\n",
      "count: 0, prev_node: extract_000_000\n",
      "count: 1, prev_node: extract_001_000\n",
      "pv_combination: ('Bruker AvanceII 1 GHz', '1D 13C NMR', 'TOCSY')\n",
      "count: 0, prev_node: extract_000_000\n",
      "count: 1, prev_node: extract_001_000\n",
      "pv_combination: ('Bruker AvanceII 1 GHz', '1D 13C NMR', 'HOESY')\n",
      "count: 0, prev_node: extract_000_000\n",
      "count: 1, prev_node: extract_001_000\n",
      "pv_combination: ('Bruker AvanceII 1 GHz', '1D 13C NMR', 'watergate')\n",
      "count: 0, prev_node: extract_000_000\n",
      "count: 1, prev_node: extract_001_000\n",
      "pv_combination: ('Bruker AvanceII 1 GHz', '1D 1H NMR', 'CPMG')\n",
      "count: 0, prev_node: extract_000_000\n",
      "count: 1, prev_node: extract_001_000\n",
      "pv_combination: ('Bruker AvanceII 1 GHz', '1D 1H NMR', 'TOCSY')\n",
      "count: 0, prev_node: extract_000_000\n",
      "count: 1, prev_node: extract_001_000\n",
      "pv_combination: ('Bruker AvanceII 1 GHz', '1D 1H NMR', 'HOESY')\n",
      "count: 0, prev_node: extract_000_000\n",
      "count: 1, prev_node: extract_001_000\n",
      "pv_combination: ('Bruker AvanceII 1 GHz', '1D 1H NMR', 'watergate')\n",
      "count: 0, prev_node: extract_000_000\n",
      "count: 1, prev_node: extract_001_000\n",
      "pv_combination: ('Bruker AvanceII 1 GHz', '2D 13C-13C NMR', 'CPMG')\n",
      "count: 0, prev_node: extract_000_000\n",
      "count: 1, prev_node: extract_001_000\n",
      "pv_combination: ('Bruker AvanceII 1 GHz', '2D 13C-13C NMR', 'TOCSY')\n",
      "count: 0, prev_node: extract_000_000\n",
      "count: 1, prev_node: extract_001_000\n",
      "pv_combination: ('Bruker AvanceII 1 GHz', '2D 13C-13C NMR', 'HOESY')\n",
      "count: 0, prev_node: extract_000_000\n",
      "count: 1, prev_node: extract_001_000\n",
      "pv_combination: ('Bruker AvanceII 1 GHz', '2D 13C-13C NMR', 'watergate')\n",
      "count: 0, prev_node: extract_000_000\n",
      "count: 1, prev_node: extract_001_000\n",
      "count: 0, prev_node: nmr_spectroscopy_000_000\n",
      "count: 1, prev_node: nmr_spectroscopy_000_001\n",
      "count: 2, prev_node: nmr_spectroscopy_001_000\n",
      "count: 3, prev_node: nmr_spectroscopy_001_001\n",
      "count: 4, prev_node: nmr_spectroscopy_002_000\n",
      "count: 5, prev_node: nmr_spectroscopy_002_001\n",
      "count: 6, prev_node: nmr_spectroscopy_003_000\n",
      "count: 7, prev_node: nmr_spectroscopy_003_001\n",
      "count: 8, prev_node: nmr_spectroscopy_004_000\n",
      "count: 9, prev_node: nmr_spectroscopy_004_001\n",
      "count: 10, prev_node: nmr_spectroscopy_005_000\n",
      "count: 11, prev_node: nmr_spectroscopy_005_001\n",
      "count: 12, prev_node: nmr_spectroscopy_006_000\n",
      "count: 13, prev_node: nmr_spectroscopy_006_001\n",
      "count: 14, prev_node: nmr_spectroscopy_007_000\n",
      "count: 15, prev_node: nmr_spectroscopy_007_001\n",
      "count: 16, prev_node: nmr_spectroscopy_008_000\n",
      "count: 17, prev_node: nmr_spectroscopy_008_001\n",
      "count: 18, prev_node: nmr_spectroscopy_009_000\n",
      "count: 19, prev_node: nmr_spectroscopy_009_001\n",
      "count: 20, prev_node: nmr_spectroscopy_010_000\n",
      "count: 21, prev_node: nmr_spectroscopy_010_001\n",
      "count: 22, prev_node: nmr_spectroscopy_011_000\n",
      "count: 23, prev_node: nmr_spectroscopy_011_001\n"
     ]
    }
   ],
   "source": [
    "sample_list = [\n",
    "        {\n",
    "            'node_type': SAMPLE,\n",
    "            'characteristics_category': 'organism part',\n",
    "            'characteristics_value': 'liver',\n",
    "            'size': 1,\n",
    "            'technical_replicates': None,\n",
    "            'is_input_to_next_protocols': True\n",
    "        },\n",
    "        {\n",
    "            'node_type': SAMPLE,\n",
    "            'characteristics_category': 'organism part',\n",
    "            'characteristics_value': 'blood',\n",
    "            'size': 5,\n",
    "            'technical_replicates': None,\n",
    "            'is_input_to_next_protocols': True\n",
    "        },\n",
    "        {\n",
    "            'node_type': SAMPLE,\n",
    "            'characteristics_category': 'organism part',\n",
    "            'characteristics_value': 'heart',\n",
    "            'size': 1,\n",
    "            'technical_replicates': None,\n",
    "            'is_input_to_next_protocols': True\n",
    "        }\n",
    "]\n",
    "\n",
    "nmr_assay_dict = OrderedDict([\n",
    "            ('extraction', {}),\n",
    "            ('extract', [\n",
    "                {\n",
    "                    'node_type': SAMPLE,\n",
    "                    'characteristics_category': 'extract type',\n",
    "                    'characteristics_value': 'supernatant',\n",
    "                    'size': 1,\n",
    "                    'technical_replicates': None,\n",
    "                    'is_input_to_next_protocols': True\n",
    "                },\n",
    "                {\n",
    "                    'node_type': SAMPLE,\n",
    "                    'characteristics_category': 'extract type',\n",
    "                    'characteristics_value': 'pellet',\n",
    "                    'size': 1,\n",
    "                    'technical_replicates': None,\n",
    "                    'is_input_to_next_protocols': True\n",
    "                }\n",
    "            ]),\n",
    "            ('nmr_spectroscopy', {\n",
    "                'instrument': ['Bruker AvanceII 1 GHz'],\n",
    "                'acquisition_mode': ['1D 13C NMR','1D 1H NMR','2D 13C-13C NMR'],\n",
    "                'pulse_sequence': ['CPMG','TOCSY','HOESY','watergate']\n",
    "            }),\n",
    "            ('raw_spectral_data_file', [\n",
    "                {\n",
    "                    'node_type': DATA_FILE,\n",
    "                    'size': 1,\n",
    "                    'technical_replicates': 2,\n",
    "                    'is_input_to_next_protocols': False\n",
    "                }\n",
    "            ])\n",
    "        ])\n",
    "nmr_assay_plan = SampleAndAssayPlan.from_sample_and_assay_plan_dict(sample_list, nmr_assay_dict)"
   ]
  },
  {
   "cell_type": "markdown",
   "metadata": {},
   "source": [
    "The `nmr_assay_plan` object is a graph. Let's check out its `nodes`."
   ]
  },
  {
   "cell_type": "code",
   "execution_count": 30,
   "metadata": {},
   "outputs": [
    {
     "name": "stdout",
     "output_type": "stream",
     "text": [
      "metabolite profiling\n"
     ]
    }
   ],
   "source": [
    "at1=Assay(measurement_type=OntologyAnnotation(term='metabolite profiling'), technology_type='mass spectrometry')\n",
    "# AT1=Assay.measurement_type=\"metabolite profiling\"\n",
    "# Assay.technology_type=\"NMR spectroscopy\"\n",
    "print(at1.measurement_type)"
   ]
  },
  {
   "cell_type": "code",
   "execution_count": 26,
   "metadata": {},
   "outputs": [
    {
     "ename": "AttributeError",
     "evalue": "'SampleAndAssayPlan' object has no attribute 'add_assay_type'",
     "output_type": "error",
     "traceback": [
      "\u001b[0;31m---------------------------------------------------------------------------\u001b[0m",
      "\u001b[0;31mAttributeError\u001b[0m                            Traceback (most recent call last)",
      "\u001b[0;32m<ipython-input-26-5738b66f9f0f>\u001b[0m in \u001b[0;36m<module>\u001b[0;34m\u001b[0m\n\u001b[1;32m      1\u001b[0m \u001b[0;31m# associate this assay type to the `SampleAssayPlan`\u001b[0m\u001b[0;34m\u001b[0m\u001b[0;34m\u001b[0m\u001b[0m\n\u001b[0;32m----> 2\u001b[0;31m \u001b[0mnmr_assay_plan\u001b[0m\u001b[0;34m.\u001b[0m\u001b[0madd_assay_type\u001b[0m\u001b[0;34m(\u001b[0m\u001b[0mat1\u001b[0m\u001b[0;34m)\u001b[0m\u001b[0;34m\u001b[0m\u001b[0m\n\u001b[0m",
      "\u001b[0;31mAttributeError\u001b[0m: 'SampleAndAssayPlan' object has no attribute 'add_assay_type'"
     ]
    }
   ],
   "source": [
    "# associate this assay type to the `SampleAssayPlan`\n",
    "nmr_assay_plan.add_assay_type(at1)"
   ]
  },
  {
   "cell_type": "code",
   "execution_count": 48,
   "metadata": {},
   "outputs": [
    {
     "ename": "NameError",
     "evalue": "name 'AssayType' is not defined",
     "output_type": "error",
     "traceback": [
      "\u001b[0;31m---------------------------------------------------------------------------\u001b[0m",
      "\u001b[0;31mNameError\u001b[0m                                 Traceback (most recent call last)",
      "\u001b[0;32m<ipython-input-48-bf1cd40a5d0d>\u001b[0m in \u001b[0;36m<module>\u001b[0;34m\u001b[0m\n\u001b[1;32m      1\u001b[0m \u001b[0;34m\u001b[0m\u001b[0m\n\u001b[0;32m----> 2\u001b[0;31m \u001b[0massay_type1\u001b[0m \u001b[0;34m=\u001b[0m \u001b[0mAssayType\u001b[0m\u001b[0;34m(\u001b[0m\u001b[0mmeasurement_type\u001b[0m\u001b[0;34m=\u001b[0m\u001b[0;34m'metabolite profiling'\u001b[0m\u001b[0;34m,\u001b[0m \u001b[0mtechnology_type\u001b[0m\u001b[0;34m=\u001b[0m\u001b[0;34m'NMR spectroscopy'\u001b[0m\u001b[0;34m)\u001b[0m\u001b[0;34m\u001b[0m\u001b[0m\n\u001b[0m\u001b[1;32m      3\u001b[0m \u001b[0;31m# associate this assay type to the `SampleAssayPlan`\u001b[0m\u001b[0;34m\u001b[0m\u001b[0;34m\u001b[0m\u001b[0m\n\u001b[1;32m      4\u001b[0m \u001b[0mnmr_assay_plan\u001b[0m\u001b[0;34m.\u001b[0m\u001b[0madd_assay_type\u001b[0m\u001b[0;34m(\u001b[0m\u001b[0massay_type1\u001b[0m\u001b[0;34m)\u001b[0m\u001b[0;34m\u001b[0m\u001b[0m\n\u001b[1;32m      5\u001b[0m \u001b[0;34m\u001b[0m\u001b[0m\n",
      "\u001b[0;31mNameError\u001b[0m: name 'AssayType' is not defined"
     ]
    }
   ],
   "source": [
    "\n",
    "#f=json.dumps(nmr_assay_plan, cls=StudyDesignEncoder, sort_keys=True, indent=4, separators=(',', ': '))\n",
    "\n",
    "f=json.dumps(nmr_assay_plan, cls=SampleAndAssayPlanEncoder, separators=(',', ': '))"
   ]
  },
  {
   "cell_type": "code",
   "execution_count": 49,
   "metadata": {},
   "outputs": [
    {
     "ename": "AttributeError",
     "evalue": "'SampleAndAssayPlan' object has no attribute 'as_networkx_graph'",
     "output_type": "error",
     "traceback": [
      "\u001b[0;31m---------------------------------------------------------------------------\u001b[0m",
      "\u001b[0;31mAttributeError\u001b[0m                            Traceback (most recent call last)",
      "\u001b[0;32m<ipython-input-49-e67b7830fb6a>\u001b[0m in \u001b[0;36m<module>\u001b[0;34m\u001b[0m\n\u001b[0;32m----> 1\u001b[0;31m \u001b[0mnx_graph\u001b[0m \u001b[0;34m=\u001b[0m \u001b[0mnmr_assay_plan\u001b[0m\u001b[0;34m.\u001b[0m\u001b[0mas_networkx_graph\u001b[0m\u001b[0;34m(\u001b[0m\u001b[0;34m)\u001b[0m\u001b[0;34m\u001b[0m\u001b[0m\n\u001b[0m\u001b[1;32m      2\u001b[0m \u001b[0;31m# set(nx_graph.nodes)\u001b[0m\u001b[0;34m\u001b[0m\u001b[0;34m\u001b[0m\u001b[0m\n\u001b[1;32m      3\u001b[0m \u001b[0mnx_graph\u001b[0m\u001b[0;34m.\u001b[0m\u001b[0mnumber_of_nodes\u001b[0m\u001b[0;34m(\u001b[0m\u001b[0;34m)\u001b[0m\u001b[0;34m\u001b[0m\u001b[0m\n",
      "\u001b[0;31mAttributeError\u001b[0m: 'SampleAndAssayPlan' object has no attribute 'as_networkx_graph'"
     ]
    }
   ],
   "source": [
    "nx_graph = nmr_assay_plan.as_networkx_graph()\n",
    "# set(nx_graph.nodes)\n",
    "nx_graph.number_of_nodes()"
   ]
  },
  {
   "cell_type": "markdown",
   "metadata": {},
   "source": [
    "Here we print the `links` or `edges` of the graph"
   ]
  },
  {
   "cell_type": "raw",
   "metadata": {},
   "source": [
    "# set(nx_graph.edges)\n",
    "nx_graph.number_of_edges()"
   ]
  },
  {
   "cell_type": "code",
   "execution_count": 11,
   "metadata": {},
   "outputs": [
    {
     "ename": "NameError",
     "evalue": "name 'nx_graph' is not defined",
     "output_type": "error",
     "traceback": [
      "\u001b[0;31m---------------------------------------------------------------------------\u001b[0m",
      "\u001b[0;31mNameError\u001b[0m                                 Traceback (most recent call last)",
      "\u001b[0;32m<ipython-input-11-7809b82d8f6b>\u001b[0m in \u001b[0;36m<module>\u001b[0;34m\u001b[0m\n\u001b[0;32m----> 1\u001b[0;31m \u001b[0mnx_graph\u001b[0m\u001b[0;34m.\u001b[0m\u001b[0msize\u001b[0m\u001b[0;34m(\u001b[0m\u001b[0;34m)\u001b[0m\u001b[0;34m\u001b[0m\u001b[0m\n\u001b[0m",
      "\u001b[0;31mNameError\u001b[0m: name 'nx_graph' is not defined"
     ]
    }
   ],
   "source": [
    "nx_graph.size()"
   ]
  },
  {
   "cell_type": "markdown",
   "metadata": {},
   "source": [
    "We output is as a `networkx` graph and we visualize it using `matplotlib`"
   ]
  },
  {
   "cell_type": "code",
   "execution_count": 12,
   "metadata": {},
   "outputs": [
    {
     "ename": "NameError",
     "evalue": "name 'nx_graph' is not defined",
     "output_type": "error",
     "traceback": [
      "\u001b[0;31m---------------------------------------------------------------------------\u001b[0m",
      "\u001b[0;31mNameError\u001b[0m                                 Traceback (most recent call last)",
      "\u001b[0;32m<ipython-input-12-9cd23142f3d8>\u001b[0m in \u001b[0;36m<module>\u001b[0;34m\u001b[0m\n\u001b[0;32m----> 1\u001b[0;31m \u001b[0mG\u001b[0m\u001b[0;34m=\u001b[0m\u001b[0mnx_graph\u001b[0m\u001b[0;34m\u001b[0m\u001b[0m\n\u001b[0m",
      "\u001b[0;31mNameError\u001b[0m: name 'nx_graph' is not defined"
     ]
    }
   ],
   "source": [
    "G=nx_graph"
   ]
  },
  {
   "cell_type": "code",
   "execution_count": null,
   "metadata": {},
   "outputs": [],
   "source": [
    "# nx.draw(G)"
   ]
  },
  {
   "cell_type": "code",
   "execution_count": null,
   "metadata": {},
   "outputs": [],
   "source": [
    "nx.draw(nx_graph,pos=nx.spring_layout(G),node_color=range(G.number_of_nodes()),cmap=plt.cm.Blues, with_labels=False)\n"
   ]
  },
  {
   "cell_type": "code",
   "execution_count": null,
   "metadata": {},
   "outputs": [],
   "source": [
    "SG1 = G.subgraph(['sample_000','extraction_000_000','extract_000_000','extract_001_000','labeling_000_000','labeling_000_003','labeled_extract_000_000','labeled_extract_000_003'])\n",
    "# print(list(SG.edges))\n",
    "pos1 = hierarchy_pos(SG1,'sample_000')    \n",
    "nx.draw(SG1, pos=pos1, with_labels=True,node_color = 'b')\n",
    "plt.savefig('hierarchy1.png')\n",
    "\n",
    "\n",
    "# SG2 = G.subgraph(['sample_001','extraction_000_001','extract_000_001','extract_001_001','labeling_000_001','labeling_000_004','labeled_extract_000_001','labeled_extract_000_004'])\n",
    "# # print(list(SG.edges))\n",
    "# pos2 = hierarchy_pos(SG2,'sample_001')    \n",
    "# nx.draw(SG2, pos=pos2, with_labels=True,node_color = 'pink')\n",
    "# plt.savefig('hierarchy2.png')\n"
   ]
  },
  {
   "cell_type": "code",
   "execution_count": null,
   "metadata": {},
   "outputs": [],
   "source": [
    "# Generating a graphviz compatible output\n",
    "dot = Digraph()\n",
    "for node in nx_graph.nodes:\n",
    "    dot.node(node)\n",
    "dot.edges(nx_graph.edges)\n",
    "filename=dot.filename\n",
    "# print(dot.source)\n",
    "dot.graph_attr['rankdir'] = 'LR' # to layout from left to right (horizontal), rather than top to bottom (vertical)\n",
    "dot.render(filename, view=True)"
   ]
  },
  {
   "cell_type": "code",
   "execution_count": null,
   "metadata": {},
   "outputs": [],
   "source": [
    "# nx.draw_networkx_edges(nx_graph,pos=nx.spring_layout(nx_graph))\n",
    "# fig = go.Figure(data=[nx_graph.nodes,nx_graph.edges])"
   ]
  },
  {
   "cell_type": "code",
   "execution_count": null,
   "metadata": {},
   "outputs": [],
   "source": [
    "# nx.draw(nx_graph, with_labels=False, font_weight='bold')"
   ]
  },
  {
   "cell_type": "code",
   "execution_count": null,
   "metadata": {},
   "outputs": [],
   "source": [
    "nx.drawing.draw_planar(nx_graph,node_color=range(G.number_of_nodes()),cmap=plt.cm.Blues, style='dashed')"
   ]
  },
  {
   "cell_type": "code",
   "execution_count": null,
   "metadata": {},
   "outputs": [],
   "source": [
    "nx.nx_agraph.to_agraph(nx_graph).layout()"
   ]
  },
  {
   "cell_type": "code",
   "execution_count": null,
   "metadata": {},
   "outputs": [],
   "source": [
    "nx.nx_agraph.to_agraph(nx_graph).write(\"isa-test.dot\")"
   ]
  },
  {
   "cell_type": "code",
   "execution_count": null,
   "metadata": {},
   "outputs": [],
   "source": [
    "G=nx.nx_agraph.read_dot(\"isa-test.dot\")"
   ]
  },
  {
   "cell_type": "code",
   "execution_count": null,
   "metadata": {},
   "outputs": [],
   "source": [
    "# G = nx.bipartite.gnmk_random_graph(3, 5, 10, seed=123)\n",
    "# top = nx.bipartite.sets(G)[3]\n",
    "# pos = nx.bipartite_layout(G, top)\n",
    "# pos = nx.planar_layout(G)"
   ]
  },
  {
   "cell_type": "code",
   "execution_count": null,
   "metadata": {},
   "outputs": [],
   "source": [
    "pos=nx.drawing.layout.planar_layout(G, scale=2, center=None, dim=2)"
   ]
  },
  {
   "cell_type": "code",
   "execution_count": null,
   "metadata": {},
   "outputs": [],
   "source": [
    "# nx.draw(nx_graph,pos=nx.drawing.layout.planar_layout(G, scale=1, center=None, dim=2),node_color=range(G.number_of_nodes()),cmap=plt.cm.Blues)"
   ]
  },
  {
   "cell_type": "code",
   "execution_count": null,
   "metadata": {},
   "outputs": [],
   "source": [
    "NG = nx.karate_club_graph()\n",
    "res = [0,1,2,3,4,5, 'parrot'] #I've added 'parrot', a node that's not in G\n",
    "                              #just to demonstrate that G.subgraph is okay\n",
    "                              #with nodes not in G.\n",
    "k = NG.subgraph(res)          \n",
    "pos = nx.spring_layout(NG)  #setting the positions with respect to G, not k.\n",
    "\n",
    "plt.figure()\n",
    "nx.draw_networkx(k, pos=pos)\n",
    "\n",
    "othersubgraph = NG.subgraph(range(6,NG.order()))\n",
    "nx.draw_networkx(othersubgraph, pos=pos, node_color = 'pink')\n",
    "\n",
    "plt.show()"
   ]
  },
  {
   "cell_type": "code",
   "execution_count": null,
   "metadata": {},
   "outputs": [],
   "source": [
    "K=nx.Graph()\n",
    "K.add_edges_from([(1,2), (1,3), (1,4), (2,5), (2,6), (2,7), (3,8), (3,9), (4,10),\n",
    "                  (5,11), (5,12), (6,13)])\n",
    "pos = hierarchy_pos(K,1)    \n",
    "nx.draw(K, pos=pos, with_labels=True)\n",
    "plt.savefig('hierarchy.png')"
   ]
  },
  {
   "cell_type": "code",
   "execution_count": null,
   "metadata": {},
   "outputs": [],
   "source": [
    "pos = hierarchy_pos(K, 1, width = 2*math.pi, xcenter=0)\n",
    "new_pos = {u:(r*math.cos(theta),r*math.sin(theta)) for u, (theta, r) in pos.items()}\n",
    "nx.draw(K, pos=new_pos, node_size = 50)\n",
    "nx.draw_networkx_nodes(K, pos=new_pos, nodelist = [1], node_color = 'pink', node_size = 200)"
   ]
  },
  {
   "cell_type": "code",
   "execution_count": null,
   "metadata": {},
   "outputs": [],
   "source": []
  }
 ],
 "metadata": {
  "kernelspec": {
   "display_name": "Python 3",
   "language": "python",
   "name": "python3"
  },
  "language_info": {
   "codemirror_mode": {
    "name": "ipython",
    "version": 3
   },
   "file_extension": ".py",
   "mimetype": "text/x-python",
   "name": "python",
   "nbconvert_exporter": "python",
   "pygments_lexer": "ipython3",
   "version": "3.6.5"
  }
 },
 "nbformat": 4,
 "nbformat_minor": 2
}
