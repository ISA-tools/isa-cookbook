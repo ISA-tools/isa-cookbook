{
 "cells": [
  {
   "cell_type": "markdown",
   "metadata": {},
   "source": [
    "# Isa Create Mode\n"
   ]
  },
  {
   "cell_type": "code",
   "execution_count": null,
   "metadata": {},
   "outputs": [],
   "source": [
    "from isatools.model import *\n",
    "from isatools.create.models import *\n",
    "from isatools.create.models import StudyCell\n"
   ]
  },
  {
   "cell_type": "markdown",
   "metadata": {},
   "source": [
    "# Treatments\n",
    "Here we will try to create a few treatments:"
   ]
  },
  {
   "cell_type": "code",
   "execution_count": null,
   "metadata": {},
   "outputs": [],
   "source": [
    "NAME = 'name'\n",
    "treatment_0_conf = dict(TYPE=INTERVENTIONS['CHEMICAL'], FACTORS_0_VALUE='nitroglycerin',FACTORS_1_VALUE=5, FACTORS_1_UNIT='kg/m^3', \n",
    "                            FACTORS_2_VALUE=100.0, FACTORS_2_UNIT = 's')\n",
    "treatment_1_conf = dict(TYPE=INTERVENTIONS['CHEMICAL'], FACTORS_0_VALUE='aether',FACTORS_1_VALUE=1.25, FACTORS_1_UNIT='g', \n",
    "                            FACTORS_2_VALUE=60000.0, FACTORS_2_UNIT = 's')\n",
    "treatment_2_conf = dict(TYPE=INTERVENTIONS['RADIOLOGICAL'], FACTORS_0_VALUE='gamma ray',FACTORS_1_VALUE=10, FACTORS_1_UNIT='gy', \n",
    "                            FACTORS_2_VALUE=60000.0, FACTORS_2_UNIT = 's')\n",
    "treatment_3_conf = dict(TYPE=INTERVENTIONS['DIET'], FACTORS_0_VALUE='glucose',FACTORS_1_VALUE=0.25, FACTORS_1_UNIT='kg', \n",
    "                            FACTORS_2_VALUE=30, FACTORS_2_UNIT = 'day')"
   ]
  },
  {
   "cell_type": "code",
   "execution_count": null,
   "metadata": {},
   "outputs": [],
   "source": [
    "treatment_3_conf.keys()"
   ]
  },
  {
   "cell_type": "code",
   "execution_count": null,
   "metadata": {},
   "outputs": [],
   "source": [
    "Treatment(treatment_3_conf.get('TYPE', None))"
   ]
  },
  {
   "cell_type": "code",
   "execution_count": null,
   "metadata": {},
   "outputs": [],
   "source": [
    "Treatment(treatment_3_conf['TYPE']).treatment_type\n"
   ]
  },
  {
   "cell_type": "code",
   "execution_count": null,
   "metadata": {},
   "outputs": [],
   "source": [
    "treatment_3_conf.items()"
   ]
  },
  {
   "cell_type": "code",
   "execution_count": null,
   "metadata": {},
   "outputs": [],
   "source": [
    "treatments = [Treatment(treatment_type=conf.get('TYPE',None), factor_values=(\n",
    "    FactorValue(factor_name=StudyFactor(name=BASE_FACTORS_[0]['name']), value=conf['FACTORS_0_VALUE']),\n",
    "    FactorValue(factor_name=StudyFactor(BASE_FACTORS_[1]['name']), value=conf['FACTORS_1_VALUE'], unit=conf['FACTORS_1_UNIT']),\n",
    "    FactorValue(factor_name=StudyFactor(BASE_FACTORS_[2]['name']), value=conf['FACTORS_2_VALUE'], unit=conf['FACTORS_2_UNIT'])\n",
    ")) for conf in [treatment_0_conf, treatment_1_conf, treatment_2_conf, treatment_3_conf]]\n"
   ]
  },
  {
   "cell_type": "code",
   "execution_count": null,
   "metadata": {},
   "outputs": [],
   "source": [
    "treatments"
   ]
  },
  {
   "cell_type": "markdown",
   "metadata": {},
   "source": [
    "## Study Epochs:\n",
    "Here we will create three epochs. The central epoch will have two concomitant treatments."
   ]
  },
  {
   "cell_type": "code",
   "execution_count": null,
   "metadata": {},
   "outputs": [],
   "source": [
    "sample_plan = SampleAssayPlan()"
   ]
  },
  {
   "cell_type": "code",
   "execution_count": null,
   "metadata": {},
   "outputs": [],
   "source": [
    "sample_plan"
   ]
  },
  {
   "cell_type": "code",
   "execution_count": null,
   "metadata": {},
   "outputs": [],
   "source": [
    "epoch_0 = StudyCell(name='first', elements=[treatments[0]])\n",
    "epoch_1 = StudyCell(name='second', elements=(treatments[1], treatments[2]))\n",
    "epoch_2 = StudyCell(name='third', elements=(treatments[2], treatments[2]))"
   ]
  },
  {
   "cell_type": "code",
   "execution_count": null,
   "metadata": {},
   "outputs": [],
   "source": [
    "epoch_0"
   ]
  },
  {
   "cell_type": "code",
   "execution_count": null,
   "metadata": {},
   "outputs": [],
   "source": [
    "epoch_1"
   ]
  },
  {
   "cell_type": "code",
   "execution_count": null,
   "metadata": {},
   "outputs": [],
   "source": [
    "epoch_2"
   ]
  },
  {
   "cell_type": "markdown",
   "metadata": {},
   "source": [
    "# Study Design\n",
    "Here we compose a study design with the three study epochs"
   ]
  },
  {
   "cell_type": "code",
   "execution_count": null,
   "metadata": {},
   "outputs": [],
   "source": [
    "study_design =  StudyDesign()"
   ]
  },
  {
   "cell_type": "markdown",
   "metadata": {},
   "source": [
    "# Study Design Factory\n",
    "Here we use a `StudyDesignFactory` class to generate study designs:"
   ]
  },
  {
   "cell_type": "code",
   "execution_count": null,
   "metadata": {},
   "outputs": [],
   "source": [
    "factory = StudyDesignFactory(treatments, sample_plan)"
   ]
  },
  {
   "cell_type": "code",
   "execution_count": null,
   "metadata": {},
   "outputs": [],
   "source": [
    "factory"
   ]
  },
  {
   "cell_type": "code",
   "execution_count": null,
   "metadata": {},
   "outputs": [],
   "source": [
    "crossover_design = factory.compute_crossover_design(screen=True, follow_up=True)\n",
    "parallel_design = factory.compute_parallel_design(screen=True, follow_up=True)"
   ]
  },
  {
   "cell_type": "code",
   "execution_count": null,
   "metadata": {},
   "outputs": [],
   "source": [
    "crossover_design"
   ]
  },
  {
   "cell_type": "code",
   "execution_count": null,
   "metadata": {},
   "outputs": [],
   "source": [
    "study_design = StudyDesign(crossover_design)"
   ]
  },
  {
   "cell_type": "code",
   "execution_count": null,
   "metadata": {},
   "outputs": [],
   "source": [
    "study_design"
   ]
  },
  {
   "cell_type": "code",
   "execution_count": null,
   "metadata": {},
   "outputs": [],
   "source": []
  }
 ],
 "metadata": {
  "kernelspec": {
   "display_name": "isapi-testson374",
   "language": "python",
   "name": "isapi-testson374"
  },
  "language_info": {
   "codemirror_mode": {
    "name": "ipython",
    "version": 3
   },
   "file_extension": ".py",
   "mimetype": "text/x-python",
   "name": "python",
   "nbconvert_exporter": "python",
   "pygments_lexer": "ipython3",
   "version": "3.7.4"
  }
 },
 "nbformat": 4,
 "nbformat_minor": 2
}
